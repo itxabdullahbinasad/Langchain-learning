{
 "cells": [
  {
   "cell_type": "code",
   "execution_count": 2,
   "metadata": {},
   "outputs": [],
   "source": [
    "import pandas as pd \n",
    "import numpy as np "
   ]
  },
  {
   "cell_type": "code",
   "execution_count": 10,
   "metadata": {},
   "outputs": [],
   "source": [
    "df=pd.read_csv(\"C:/Users/abdul/OneDrive/Desktop/Grades_formatting.csv\")"
   ]
  },
  {
   "cell_type": "code",
   "execution_count": 11,
   "metadata": {},
   "outputs": [
    {
     "data": {
      "text/html": [
       "<div>\n",
       "<style scoped>\n",
       "    .dataframe tbody tr th:only-of-type {\n",
       "        vertical-align: middle;\n",
       "    }\n",
       "\n",
       "    .dataframe tbody tr th {\n",
       "        vertical-align: top;\n",
       "    }\n",
       "\n",
       "    .dataframe thead th {\n",
       "        text-align: right;\n",
       "    }\n",
       "</style>\n",
       "<table border=\"1\" class=\"dataframe\">\n",
       "  <thead>\n",
       "    <tr style=\"text-align: right;\">\n",
       "      <th></th>\n",
       "      <th>Holy Q</th>\n",
       "      <th>Urdu</th>\n",
       "      <th>English</th>\n",
       "      <th>Islamiyat</th>\n",
       "      <th>Pak St</th>\n",
       "      <th>Math</th>\n",
       "      <th>Phy</th>\n",
       "      <th>Chem</th>\n",
       "      <th>Bio</th>\n",
       "      <th>Comp</th>\n",
       "    </tr>\n",
       "  </thead>\n",
       "  <tbody>\n",
       "    <tr>\n",
       "      <th>0</th>\n",
       "      <td>A+</td>\n",
       "      <td>A+</td>\n",
       "      <td>A+</td>\n",
       "      <td>A+</td>\n",
       "      <td>A+</td>\n",
       "      <td>A+</td>\n",
       "      <td>A+</td>\n",
       "      <td>A+</td>\n",
       "      <td>A+</td>\n",
       "      <td>NaN</td>\n",
       "    </tr>\n",
       "    <tr>\n",
       "      <th>1</th>\n",
       "      <td>A+</td>\n",
       "      <td>A+</td>\n",
       "      <td>A+</td>\n",
       "      <td>A+</td>\n",
       "      <td>A+</td>\n",
       "      <td>A+</td>\n",
       "      <td>A+</td>\n",
       "      <td>A+</td>\n",
       "      <td>A+</td>\n",
       "      <td>NaN</td>\n",
       "    </tr>\n",
       "  </tbody>\n",
       "</table>\n",
       "</div>"
      ],
      "text/plain": [
       "  Holy Q Urdu English Islamiyat Pak St Math Phy Chem Bio Comp\n",
       "0     A+   A+      A+        A+     A+   A+  A+   A+  A+  NaN\n",
       "1     A+   A+      A+        A+     A+   A+  A+   A+  A+  NaN"
      ]
     },
     "execution_count": 11,
     "metadata": {},
     "output_type": "execute_result"
    }
   ],
   "source": [
    "df.head(2)"
   ]
  },
  {
   "cell_type": "code",
   "execution_count": 34,
   "metadata": {},
   "outputs": [],
   "source": [
    "holyq=df[\"Comp\"].value_counts()"
   ]
  },
  {
   "cell_type": "code",
   "execution_count": 35,
   "metadata": {},
   "outputs": [
    {
     "name": "stdout",
     "output_type": "stream",
     "text": [
      "Comp\n",
      "A+    20\n",
      "A      9\n",
      "B+     4\n",
      "C+     2\n",
      "B      2\n",
      "A      1\n",
      "B      1\n",
      "Name: count, dtype: int64\n"
     ]
    }
   ],
   "source": [
    "print(holyq)"
   ]
  }
 ],
 "metadata": {
  "kernelspec": {
   "display_name": ".venv",
   "language": "python",
   "name": "python3"
  },
  "language_info": {
   "codemirror_mode": {
    "name": "ipython",
    "version": 3
   },
   "file_extension": ".py",
   "mimetype": "text/x-python",
   "name": "python",
   "nbconvert_exporter": "python",
   "pygments_lexer": "ipython3",
   "version": "3.11.9"
  }
 },
 "nbformat": 4,
 "nbformat_minor": 2
}
