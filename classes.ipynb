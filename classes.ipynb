{
 "cells": [
  {
   "cell_type": "code",
   "execution_count": 1,
   "metadata": {},
   "outputs": [
    {
     "name": "stdout",
     "output_type": "stream",
     "text": [
      "This is week 1\n",
      "None\n"
     ]
    }
   ],
   "source": [
    "class November():\n",
    "    def __init__(self) -> None:\n",
    "        pass\n",
    "\n",
    "    def week1(self):\n",
    "        print(\"This is week 1\")\n",
    "    \n",
    "    def week2(self):\n",
    "        print(\"This is week 2\")\n",
    "    \n",
    "    def week3(self):\n",
    "        print(\"This is week 3\")\n",
    "    \n",
    "    def week4(self):\n",
    "        print(\"This is week 4\")\n",
    "\n",
    "week_print=November()\n",
    "print(week_print.week1())\n"
   ]
  },
  {
   "cell_type": "code",
   "execution_count": 16,
   "metadata": {},
   "outputs": [
    {
     "name": "stdout",
     "output_type": "stream",
     "text": [
      "Mr. Abdullah\n",
      "1. math\n",
      "2. computer\n",
      "3. physics\n",
      "4. Dbms\n",
      "5. bio\n"
     ]
    }
   ],
   "source": [
    "import random\n",
    "\n",
    "class Student:\n",
    "    def __init__(self, name, age, id):\n",
    "        self.name = name\n",
    "        self.age = age\n",
    "        self.id = id\n",
    "        self.courses = [\"english\", \"math\", \"science\", \"bio\", \"computer\", \"Dbms\", \"botony\", \"chemistry\", \"physics\", \"Oops in C++\"]\n",
    "\n",
    "    def get_name(self):\n",
    "        if self.name == \"Abdullah\":\n",
    "            return \"Mr. \" + self.name\n",
    "        else:\n",
    "            return self.name\n",
    "\n",
    "    def student_course(self):\n",
    "        selected_courses = []\n",
    "        counter = 1\n",
    "        while len(selected_courses) < 5:\n",
    "            course = random.choice(self.courses)\n",
    "            if course not in selected_courses:\n",
    "                selected_courses.append(course)\n",
    "                print(f\"{counter}. {course}\")\n",
    "                counter += 1\n",
    "\n",
    "student_class = Student(\"Abdullah\", 20, 123456789)\n",
    "print(student_class.get_name())\n",
    "student_class.student_course()\n"
   ]
  },
  {
   "cell_type": "code",
   "execution_count": 26,
   "metadata": {},
   "outputs": [
    {
     "name": "stdout",
     "output_type": "stream",
     "text": [
      "\n",
      " Student ID: SV12\n",
      "Student Name: jean_garner\n",
      "Student Name: jean_garner\n",
      "Student Class: 12\n"
     ]
    }
   ],
   "source": [
    "def student_data(student_id, **kwargs):\n",
    "    print(f'\\n Student ID: {student_id}')\n",
    "\n",
    "    if 'student_name' in kwargs:\n",
    "        print(f'Student Name: {kwargs[\"student_name\"]}')\n",
    "\n",
    "    if all(key in kwargs for key in [\"student_name\", \"student_class\"]):\n",
    "        print(f'Student Name: {kwargs[\"student_name\"]}')\n",
    "        print(f'Student Class: {kwargs[\"student_class\"]}')\n",
    "        \n",
    "\n",
    "check = student_data(student_id=\"SV12\", student_name='jean_garner' , student_class='12')\n",
    " "
   ]
  },
  {
   "cell_type": "code",
   "execution_count": 28,
   "metadata": {},
   "outputs": [
    {
     "ename": "KeyboardInterrupt",
     "evalue": "",
     "output_type": "error",
     "traceback": [
      "\u001b[1;31m---------------------------------------------------------------------------\u001b[0m",
      "\u001b[1;31mKeyboardInterrupt\u001b[0m                         Traceback (most recent call last)",
      "Cell \u001b[1;32mIn[28], line 25\u001b[0m\n\u001b[0;32m     22\u001b[0m                 \u001b[38;5;28;01mreturn\u001b[39;00m roman_num\n\u001b[0;32m     24\u001b[0m solution \u001b[38;5;241m=\u001b[39m py_solution()\n\u001b[1;32m---> 25\u001b[0m \u001b[38;5;28mprint\u001b[39m(\u001b[43msolution\u001b[49m\u001b[38;5;241;43m.\u001b[39;49m\u001b[43mint_to_Roman\u001b[49m\u001b[43m(\u001b[49m\u001b[38;5;241;43m3\u001b[39;49m\u001b[43m)\u001b[49m)\n\u001b[0;32m     26\u001b[0m \u001b[38;5;28mprint\u001b[39m(solution\u001b[38;5;241m.\u001b[39mint_to_Roman(\u001b[38;5;241m4\u001b[39m))\n\u001b[0;32m     27\u001b[0m \u001b[38;5;28mprint\u001b[39m(solution\u001b[38;5;241m.\u001b[39mint_to_Roman(\u001b[38;5;241m9\u001b[39m))\n",
      "Cell \u001b[1;32mIn[28], line 17\u001b[0m, in \u001b[0;36mpy_solution.int_to_Roman\u001b[1;34m(self, num)\u001b[0m\n\u001b[0;32m     15\u001b[0m roman_num\u001b[38;5;241m=\u001b[39m\u001b[38;5;124m\"\u001b[39m\u001b[38;5;124m\"\u001b[39m\n\u001b[0;32m     16\u001b[0m i\u001b[38;5;241m=\u001b[39m\u001b[38;5;241m0\u001b[39m\n\u001b[1;32m---> 17\u001b[0m \u001b[38;5;28;01mwhile\u001b[39;00m num\u001b[38;5;241m>\u001b[39m\u001b[38;5;241m0\u001b[39m:\n\u001b[0;32m     18\u001b[0m     \u001b[38;5;28;01mfor\u001b[39;00m _ \u001b[38;5;129;01min\u001b[39;00m \u001b[38;5;28mrange\u001b[39m(num\u001b[38;5;241m/\u001b[39m\u001b[38;5;241m/\u001b[39mval[i]):\n\u001b[0;32m     19\u001b[0m         roman_num\u001b[38;5;241m+\u001b[39m\u001b[38;5;241m=\u001b[39msyb[i]\n",
      "\u001b[1;31mKeyboardInterrupt\u001b[0m: "
     ]
    }
   ],
   "source": [
    "class py_solution:\n",
    "    def int_to_Roman(self, num):\n",
    "        val = [\n",
    "            1000, 900, 500, 400,\n",
    "            100, 90, 50, 40,\n",
    "            10, 9, 5, 4,\n",
    "            1\n",
    "            ]\n",
    "        syb = [\n",
    "            \"M\", \"CM\", \"D\", \"CD\",\n",
    "            \"C\", \"XC\", \"L\", \"XL\",\n",
    "            \"X\", \"IX\", \"V\", \"IV\",\n",
    "            \"I\"\n",
    "            ]\n",
    "        roman_num=\"\"\n",
    "        i=0\n",
    "        while num>0:\n",
    "            for _ in range(num//val[i]):\n",
    "                roman_num+=syb[i]\n",
    "                num-=val[i]\n",
    "                i+=1\n",
    "                return roman_num\n",
    "\n",
    "solution = py_solution()\n",
    "print(solution.int_to_Roman(3))\n",
    "print(solution.int_to_Roman(4))\n",
    "print(solution.int_to_Roman(9))\n",
    "print(solution.int_to_Roman(58))\n",
    "print(solution.int_to_Roman(1994))\n"
   ]
  },
  {
   "cell_type": "code",
   "execution_count": 48,
   "metadata": {},
   "outputs": [
    {
     "name": "stdout",
     "output_type": "stream",
     "text": [
      "Your annual tax is 54000.0\n"
     ]
    }
   ],
   "source": [
    "class Employye():\n",
    "    def __init__(self , name=None , salary=None , department=None , category=None):\n",
    "        self.name = name\n",
    "        self.salary = salary\n",
    "        self.department = department\n",
    "        self.category = category\n",
    "\n",
    "    def tax_calculate(self):\n",
    "        \n",
    "        if self.salary <=60000:\n",
    "            return (\"No tax applied\")\n",
    "\n",
    "        elif 70000 < self.salary <= 120000:\n",
    "            annual_tax = self.salary * 0.2\n",
    "            return annual_tax\n",
    "        \n",
    "        elif 120000 < self.salary <= 180000 and self.category in ['buisness', 'general']:\n",
    "            annual_tax = self.salary * 0.3\n",
    "            return annual_tax\n",
    "        \n",
    "    def change_department(self , new_department):\n",
    "        department_choices=['IT','HR','Finance']\n",
    "        if new_department in department_choices:\n",
    "            return new_department\n",
    "            \n",
    "            \n",
    "employee=Employye()\n",
    "\n",
    "user_query=input(\"Do you want to change department or do you want to calculate_tax\")\n",
    "user_requirement = user_query.find(\"change department\") != -1 or user_query.find(\"calculate tax\") != -1\n",
    "\n",
    "\n",
    "if user_requirement and \"change department\" in user_query:\n",
    "    new_department = input(\"Enter new department\")\n",
    "    name = input(\"Enter your name\")\n",
    "    department_change = employee.change_department(new_department)\n",
    "    print(f\"{name} your department is changed to {department_change}\")\n",
    "\n",
    "\n",
    "\n",
    "elif user_requirement and \"calculate tax\" in user_query:\n",
    "    category = input(\"Enter your category are you buisness or general\")\n",
    "    salary = int(input(\"Enter your salary\"))\n",
    "    employee.category = category\n",
    "    employee.salary = salary\n",
    "    annual_taxes = employee.tax_calculate()\n",
    "    print(f\"Your annual tax is {annual_taxes}\")\n",
    "\n",
    "else:\n",
    "    print(\"Invalid input\")\n",
    "    \n",
    "\n"
   ]
  }
 ],
 "metadata": {
  "kernelspec": {
   "display_name": ".venv",
   "language": "python",
   "name": "python3"
  },
  "language_info": {
   "codemirror_mode": {
    "name": "ipython",
    "version": 3
   },
   "file_extension": ".py",
   "mimetype": "text/x-python",
   "name": "python",
   "nbconvert_exporter": "python",
   "pygments_lexer": "ipython3",
   "version": "3.11.9"
  }
 },
 "nbformat": 4,
 "nbformat_minor": 2
}
