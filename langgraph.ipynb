{
 "cells": [
  {
   "cell_type": "code",
   "execution_count": 65,
   "metadata": {},
   "outputs": [],
   "source": [
    "def function1(input1:str):\n",
    "    return input1 + \" Hi \" \n",
    "\n",
    "def function2(input2:str)->str:\n",
    "    return input2 + \"There\""
   ]
  },
  {
   "cell_type": "code",
   "execution_count": 66,
   "metadata": {},
   "outputs": [],
   "source": [
    "from langgraph.graph import Graph\n",
    "\n",
    "workflow=Graph()\n",
    "\n",
    "workflow.add_node(\"node1\" , function1)\n",
    "workflow.add_node(\"node2\" , function2)\n",
    "\n",
    "workflow.add_edge(\"node1\" , \"node2\")\n",
    "\n",
    "workflow.set_entry_point(\"node1\")\n",
    "workflow.set_finish_point(\"node2\")\n",
    "\n",
    "app=workflow.compile()"
   ]
  },
  {
   "cell_type": "code",
   "execution_count": 67,
   "metadata": {},
   "outputs": [
    {
     "data": {
      "text/plain": [
       "'Hello Hi There'"
      ]
     },
     "execution_count": 67,
     "metadata": {},
     "output_type": "execute_result"
    }
   ],
   "source": [
    "app.invoke(\"Hello\")"
   ]
  },
  {
   "cell_type": "code",
   "execution_count": 68,
   "metadata": {},
   "outputs": [
    {
     "name": "stdout",
     "output_type": "stream",
     "text": [
      "The output from node node1 : \n",
      "------------\n",
      "hello Hi \n",
      "The output from node node2 : \n",
      "------------\n",
      "hello Hi There\n"
     ]
    }
   ],
   "source": [
    "input=\"hello\"\n",
    "\n",
    "for output in app.stream(input):\n",
    "    for key , value in output.items():\n",
    "        print(f\"The output from node {key} : \")\n",
    "        print(\"------------\")\n",
    "        print(f\"{value}\")"
   ]
  },
  {
   "cell_type": "code",
   "execution_count": 69,
   "metadata": {},
   "outputs": [],
   "source": [
    "import os \n",
    "from dotenv import load_dotenv\n",
    "load_dotenv()\n",
    "from langchain_groq import ChatGroq\n",
    "os.getenv(\"GROQ_API_KEY\")\n",
    "os.getenv(\"TAVILY_API_KEY\")\n",
    "groq_llm=ChatGroq(model=\"Mixtral-8x7b-32768\")"
   ]
  },
  {
   "cell_type": "code",
   "execution_count": 70,
   "metadata": {},
   "outputs": [],
   "source": [
    "from langchain_community.tools.tavily_search import TavilySearchResults\n",
    "\n",
    "search = TavilySearchResults()\n"
   ]
  },
  {
   "cell_type": "code",
   "execution_count": 71,
   "metadata": {},
   "outputs": [
    {
     "name": "stdout",
     "output_type": "stream",
     "text": [
      "{'messages': []}\n"
     ]
    }
   ],
   "source": [
    "Agent_State={}\n",
    "\n",
    "Agent_State[\"messages\"]=[]\n",
    "print(Agent_State)"
   ]
  },
  {
   "cell_type": "code",
   "execution_count": 78,
   "metadata": {},
   "outputs": [
    {
     "ename": "TypeError",
     "evalue": "string indices must be integers, not 'str'",
     "output_type": "error",
     "traceback": [
      "\u001b[1;31m---------------------------------------------------------------------------\u001b[0m",
      "\u001b[1;31mTypeError\u001b[0m                                 Traceback (most recent call last)",
      "Cell \u001b[1;32mIn[78], line 49\u001b[0m\n\u001b[0;32m     46\u001b[0m app2\u001b[38;5;241m=\u001b[39mworkflow2\u001b[38;5;241m.\u001b[39mcompile()\n\u001b[0;32m     48\u001b[0m inputs\u001b[38;5;241m=\u001b[39m{\u001b[38;5;124m\"\u001b[39m\u001b[38;5;124mmessages\u001b[39m\u001b[38;5;124m\"\u001b[39m: [\u001b[38;5;124m\"\u001b[39m\u001b[38;5;124mWhat do you know about mercedes c63s 6.2l v8 , when was it released and what is its price?\u001b[39m\u001b[38;5;124m\"\u001b[39m]}\n\u001b[1;32m---> 49\u001b[0m \u001b[43mapp2\u001b[49m\u001b[38;5;241;43m.\u001b[39;49m\u001b[43minvoke\u001b[49m\u001b[43m(\u001b[49m\u001b[43minputs\u001b[49m\u001b[43m)\u001b[49m\n",
      "File \u001b[1;32mc:\\Users\\abdul\\OneDrive\\Desktop\\Langchain learning\\.venv\\Lib\\site-packages\\langgraph\\pregel\\__init__.py:1400\u001b[0m, in \u001b[0;36mPregel.invoke\u001b[1;34m(self, input, config, stream_mode, output_keys, input_keys, interrupt_before, interrupt_after, debug, **kwargs)\u001b[0m\n\u001b[0;32m   1398\u001b[0m \u001b[38;5;28;01melse\u001b[39;00m:\n\u001b[0;32m   1399\u001b[0m     chunks \u001b[38;5;241m=\u001b[39m []\n\u001b[1;32m-> 1400\u001b[0m \u001b[43m\u001b[49m\u001b[38;5;28;43;01mfor\u001b[39;49;00m\u001b[43m \u001b[49m\u001b[43mchunk\u001b[49m\u001b[43m \u001b[49m\u001b[38;5;129;43;01min\u001b[39;49;00m\u001b[43m \u001b[49m\u001b[38;5;28;43mself\u001b[39;49m\u001b[38;5;241;43m.\u001b[39;49m\u001b[43mstream\u001b[49m\u001b[43m(\u001b[49m\n\u001b[0;32m   1401\u001b[0m \u001b[43m    \u001b[49m\u001b[38;5;28;43minput\u001b[39;49m\u001b[43m,\u001b[49m\n\u001b[0;32m   1402\u001b[0m \u001b[43m    \u001b[49m\u001b[43mconfig\u001b[49m\u001b[43m,\u001b[49m\n\u001b[0;32m   1403\u001b[0m \u001b[43m    \u001b[49m\u001b[43mstream_mode\u001b[49m\u001b[38;5;241;43m=\u001b[39;49m\u001b[43mstream_mode\u001b[49m\u001b[43m,\u001b[49m\n\u001b[0;32m   1404\u001b[0m \u001b[43m    \u001b[49m\u001b[43moutput_keys\u001b[49m\u001b[38;5;241;43m=\u001b[39;49m\u001b[43moutput_keys\u001b[49m\u001b[43m,\u001b[49m\n\u001b[0;32m   1405\u001b[0m \u001b[43m    \u001b[49m\u001b[43minput_keys\u001b[49m\u001b[38;5;241;43m=\u001b[39;49m\u001b[43minput_keys\u001b[49m\u001b[43m,\u001b[49m\n\u001b[0;32m   1406\u001b[0m \u001b[43m    \u001b[49m\u001b[43minterrupt_before\u001b[49m\u001b[38;5;241;43m=\u001b[39;49m\u001b[43minterrupt_before\u001b[49m\u001b[43m,\u001b[49m\n\u001b[0;32m   1407\u001b[0m \u001b[43m    \u001b[49m\u001b[43minterrupt_after\u001b[49m\u001b[38;5;241;43m=\u001b[39;49m\u001b[43minterrupt_after\u001b[49m\u001b[43m,\u001b[49m\n\u001b[0;32m   1408\u001b[0m \u001b[43m    \u001b[49m\u001b[43mdebug\u001b[49m\u001b[38;5;241;43m=\u001b[39;49m\u001b[43mdebug\u001b[49m\u001b[43m,\u001b[49m\n\u001b[0;32m   1409\u001b[0m \u001b[43m    \u001b[49m\u001b[38;5;241;43m*\u001b[39;49m\u001b[38;5;241;43m*\u001b[39;49m\u001b[43mkwargs\u001b[49m\u001b[43m,\u001b[49m\n\u001b[0;32m   1410\u001b[0m \u001b[43m\u001b[49m\u001b[43m)\u001b[49m\u001b[43m:\u001b[49m\n\u001b[0;32m   1411\u001b[0m \u001b[43m    \u001b[49m\u001b[38;5;28;43;01mif\u001b[39;49;00m\u001b[43m \u001b[49m\u001b[43mstream_mode\u001b[49m\u001b[43m \u001b[49m\u001b[38;5;241;43m==\u001b[39;49m\u001b[43m \u001b[49m\u001b[38;5;124;43m\"\u001b[39;49m\u001b[38;5;124;43mvalues\u001b[39;49m\u001b[38;5;124;43m\"\u001b[39;49m\u001b[43m:\u001b[49m\n\u001b[0;32m   1412\u001b[0m \u001b[43m        \u001b[49m\u001b[43mlatest\u001b[49m\u001b[43m \u001b[49m\u001b[38;5;241;43m=\u001b[39;49m\u001b[43m \u001b[49m\u001b[43mchunk\u001b[49m\n",
      "File \u001b[1;32mc:\\Users\\abdul\\OneDrive\\Desktop\\Langchain learning\\.venv\\Lib\\site-packages\\langgraph\\pregel\\__init__.py:963\u001b[0m, in \u001b[0;36mPregel.stream\u001b[1;34m(self, input, config, stream_mode, output_keys, input_keys, interrupt_before, interrupt_after, debug)\u001b[0m\n\u001b[0;32m    960\u001b[0m         \u001b[38;5;28;01mdel\u001b[39;00m fut, task\n\u001b[0;32m    962\u001b[0m \u001b[38;5;66;03m# panic on failure or timeout\u001b[39;00m\n\u001b[1;32m--> 963\u001b[0m \u001b[43m_panic_or_proceed\u001b[49m\u001b[43m(\u001b[49m\u001b[43mdone\u001b[49m\u001b[43m,\u001b[49m\u001b[43m \u001b[49m\u001b[43minflight\u001b[49m\u001b[43m,\u001b[49m\u001b[43m \u001b[49m\u001b[43mstep\u001b[49m\u001b[43m)\u001b[49m\n\u001b[0;32m    964\u001b[0m \u001b[38;5;66;03m# don't keep futures around in memory longer than needed\u001b[39;00m\n\u001b[0;32m    965\u001b[0m \u001b[38;5;28;01mdel\u001b[39;00m done, inflight, futures\n",
      "File \u001b[1;32mc:\\Users\\abdul\\OneDrive\\Desktop\\Langchain learning\\.venv\\Lib\\site-packages\\langgraph\\pregel\\__init__.py:1489\u001b[0m, in \u001b[0;36m_panic_or_proceed\u001b[1;34m(done, inflight, step)\u001b[0m\n\u001b[0;32m   1487\u001b[0m             inflight\u001b[38;5;241m.\u001b[39mpop()\u001b[38;5;241m.\u001b[39mcancel()\n\u001b[0;32m   1488\u001b[0m         \u001b[38;5;66;03m# raise the exception\u001b[39;00m\n\u001b[1;32m-> 1489\u001b[0m         \u001b[38;5;28;01mraise\u001b[39;00m exc\n\u001b[0;32m   1491\u001b[0m \u001b[38;5;28;01mif\u001b[39;00m inflight:\n\u001b[0;32m   1492\u001b[0m     \u001b[38;5;66;03m# if we got here means we timed out\u001b[39;00m\n\u001b[0;32m   1493\u001b[0m     \u001b[38;5;28;01mwhile\u001b[39;00m inflight:\n\u001b[0;32m   1494\u001b[0m         \u001b[38;5;66;03m# cancel all pending tasks\u001b[39;00m\n",
      "File \u001b[1;32mC:\\Program Files\\WindowsApps\\PythonSoftwareFoundation.Python.3.11_3.11.2544.0_x64__qbz5n2kfra8p0\\Lib\\concurrent\\futures\\thread.py:58\u001b[0m, in \u001b[0;36m_WorkItem.run\u001b[1;34m(self)\u001b[0m\n\u001b[0;32m     55\u001b[0m     \u001b[38;5;28;01mreturn\u001b[39;00m\n\u001b[0;32m     57\u001b[0m \u001b[38;5;28;01mtry\u001b[39;00m:\n\u001b[1;32m---> 58\u001b[0m     result \u001b[38;5;241m=\u001b[39m \u001b[38;5;28;43mself\u001b[39;49m\u001b[38;5;241;43m.\u001b[39;49m\u001b[43mfn\u001b[49m\u001b[43m(\u001b[49m\u001b[38;5;241;43m*\u001b[39;49m\u001b[38;5;28;43mself\u001b[39;49m\u001b[38;5;241;43m.\u001b[39;49m\u001b[43margs\u001b[49m\u001b[43m,\u001b[49m\u001b[43m \u001b[49m\u001b[38;5;241;43m*\u001b[39;49m\u001b[38;5;241;43m*\u001b[39;49m\u001b[38;5;28;43mself\u001b[39;49m\u001b[38;5;241;43m.\u001b[39;49m\u001b[43mkwargs\u001b[49m\u001b[43m)\u001b[49m\n\u001b[0;32m     59\u001b[0m \u001b[38;5;28;01mexcept\u001b[39;00m \u001b[38;5;167;01mBaseException\u001b[39;00m \u001b[38;5;28;01mas\u001b[39;00m exc:\n\u001b[0;32m     60\u001b[0m     \u001b[38;5;28mself\u001b[39m\u001b[38;5;241m.\u001b[39mfuture\u001b[38;5;241m.\u001b[39mset_exception(exc)\n",
      "File \u001b[1;32mc:\\Users\\abdul\\OneDrive\\Desktop\\Langchain learning\\.venv\\Lib\\site-packages\\langgraph\\pregel\\retry.py:66\u001b[0m, in \u001b[0;36mrun_with_retry\u001b[1;34m(task, retry_policy)\u001b[0m\n\u001b[0;32m     64\u001b[0m task\u001b[38;5;241m.\u001b[39mwrites\u001b[38;5;241m.\u001b[39mclear()\n\u001b[0;32m     65\u001b[0m \u001b[38;5;66;03m# run the task\u001b[39;00m\n\u001b[1;32m---> 66\u001b[0m \u001b[43mtask\u001b[49m\u001b[38;5;241;43m.\u001b[39;49m\u001b[43mproc\u001b[49m\u001b[38;5;241;43m.\u001b[39;49m\u001b[43minvoke\u001b[49m\u001b[43m(\u001b[49m\u001b[43mtask\u001b[49m\u001b[38;5;241;43m.\u001b[39;49m\u001b[43minput\u001b[49m\u001b[43m,\u001b[49m\u001b[43m \u001b[49m\u001b[43mtask\u001b[49m\u001b[38;5;241;43m.\u001b[39;49m\u001b[43mconfig\u001b[49m\u001b[43m)\u001b[49m\n\u001b[0;32m     67\u001b[0m \u001b[38;5;66;03m# if successful, end\u001b[39;00m\n\u001b[0;32m     68\u001b[0m \u001b[38;5;28;01mbreak\u001b[39;00m\n",
      "File \u001b[1;32mc:\\Users\\abdul\\OneDrive\\Desktop\\Langchain learning\\.venv\\Lib\\site-packages\\langchain_core\\runnables\\base.py:2493\u001b[0m, in \u001b[0;36mRunnableSequence.invoke\u001b[1;34m(self, input, config, **kwargs)\u001b[0m\n\u001b[0;32m   2489\u001b[0m config \u001b[38;5;241m=\u001b[39m patch_config(\n\u001b[0;32m   2490\u001b[0m     config, callbacks\u001b[38;5;241m=\u001b[39mrun_manager\u001b[38;5;241m.\u001b[39mget_child(\u001b[38;5;124mf\u001b[39m\u001b[38;5;124m\"\u001b[39m\u001b[38;5;124mseq:step:\u001b[39m\u001b[38;5;132;01m{\u001b[39;00mi\u001b[38;5;241m+\u001b[39m\u001b[38;5;241m1\u001b[39m\u001b[38;5;132;01m}\u001b[39;00m\u001b[38;5;124m\"\u001b[39m)\n\u001b[0;32m   2491\u001b[0m )\n\u001b[0;32m   2492\u001b[0m \u001b[38;5;28;01mif\u001b[39;00m i \u001b[38;5;241m==\u001b[39m \u001b[38;5;241m0\u001b[39m:\n\u001b[1;32m-> 2493\u001b[0m     \u001b[38;5;28minput\u001b[39m \u001b[38;5;241m=\u001b[39m \u001b[43mstep\u001b[49m\u001b[38;5;241;43m.\u001b[39;49m\u001b[43minvoke\u001b[49m\u001b[43m(\u001b[49m\u001b[38;5;28;43minput\u001b[39;49m\u001b[43m,\u001b[49m\u001b[43m \u001b[49m\u001b[43mconfig\u001b[49m\u001b[43m,\u001b[49m\u001b[43m \u001b[49m\u001b[38;5;241;43m*\u001b[39;49m\u001b[38;5;241;43m*\u001b[39;49m\u001b[43mkwargs\u001b[49m\u001b[43m)\u001b[49m\n\u001b[0;32m   2494\u001b[0m \u001b[38;5;28;01melse\u001b[39;00m:\n\u001b[0;32m   2495\u001b[0m     \u001b[38;5;28minput\u001b[39m \u001b[38;5;241m=\u001b[39m step\u001b[38;5;241m.\u001b[39minvoke(\u001b[38;5;28minput\u001b[39m, config)\n",
      "File \u001b[1;32mc:\\Users\\abdul\\OneDrive\\Desktop\\Langchain learning\\.venv\\Lib\\site-packages\\langgraph\\utils.py:95\u001b[0m, in \u001b[0;36mRunnableCallable.invoke\u001b[1;34m(self, input, config, **kwargs)\u001b[0m\n\u001b[0;32m     93\u001b[0m     \u001b[38;5;28;01mif\u001b[39;00m accepts_config(\u001b[38;5;28mself\u001b[39m\u001b[38;5;241m.\u001b[39mfunc):\n\u001b[0;32m     94\u001b[0m         kwargs[\u001b[38;5;124m\"\u001b[39m\u001b[38;5;124mconfig\u001b[39m\u001b[38;5;124m\"\u001b[39m] \u001b[38;5;241m=\u001b[39m config\n\u001b[1;32m---> 95\u001b[0m     ret \u001b[38;5;241m=\u001b[39m \u001b[43mcontext\u001b[49m\u001b[38;5;241;43m.\u001b[39;49m\u001b[43mrun\u001b[49m\u001b[43m(\u001b[49m\u001b[38;5;28;43mself\u001b[39;49m\u001b[38;5;241;43m.\u001b[39;49m\u001b[43mfunc\u001b[49m\u001b[43m,\u001b[49m\u001b[43m \u001b[49m\u001b[38;5;28;43minput\u001b[39;49m\u001b[43m,\u001b[49m\u001b[43m \u001b[49m\u001b[38;5;241;43m*\u001b[39;49m\u001b[38;5;241;43m*\u001b[39;49m\u001b[43mkwargs\u001b[49m\u001b[43m)\u001b[49m\n\u001b[0;32m     96\u001b[0m \u001b[38;5;28;01mif\u001b[39;00m \u001b[38;5;28misinstance\u001b[39m(ret, Runnable) \u001b[38;5;129;01mand\u001b[39;00m \u001b[38;5;28mself\u001b[39m\u001b[38;5;241m.\u001b[39mrecurse:\n\u001b[0;32m     97\u001b[0m     \u001b[38;5;28;01mreturn\u001b[39;00m ret\u001b[38;5;241m.\u001b[39minvoke(\u001b[38;5;28minput\u001b[39m, config)\n",
      "Cell \u001b[1;32mIn[78], line 11\u001b[0m, in \u001b[0;36mfunction4\u001b[1;34m(state)\u001b[0m\n\u001b[0;32m      9\u001b[0m \u001b[38;5;28;01mdef\u001b[39;00m \u001b[38;5;21mfunction4\u001b[39m(state)\u001b[38;5;241m-\u001b[39m\u001b[38;5;241m>\u001b[39m\u001b[38;5;28mstr\u001b[39m:\n\u001b[0;32m     10\u001b[0m     custom_contents\u001b[38;5;241m=\u001b[39m[]\n\u001b[1;32m---> 11\u001b[0m     messages\u001b[38;5;241m=\u001b[39m\u001b[43mstate\u001b[49m\u001b[43m[\u001b[49m\u001b[38;5;124;43m\"\u001b[39;49m\u001b[38;5;124;43mmessages\u001b[39;49m\u001b[38;5;124;43m\"\u001b[39;49m\u001b[43m]\u001b[49m\n\u001b[0;32m     12\u001b[0m     input4\u001b[38;5;241m=\u001b[39mmessages[\u001b[38;5;241m-\u001b[39m\u001b[38;5;241m1\u001b[39m]\n\u001b[0;32m     13\u001b[0m     response4\u001b[38;5;241m=\u001b[39msearch\u001b[38;5;241m.\u001b[39mrun(input4)\n",
      "\u001b[1;31mTypeError\u001b[0m: string indices must be integers, not 'str'"
     ]
    }
   ],
   "source": [
    "def function3(state)->str:\n",
    "    messages=state['messages']\n",
    "    input3=messages[-1]\n",
    "    role=\"Your task is to take the information out of the car which will include the brand name and the car model , NOTE!! NOTHING ELSE THEN CAR MODEL AND CAR BRAND . HERE IS THE USER QUERY : \\n\" + input3\n",
    "    response3=groq_llm.invoke(role)\n",
    "    state['messages'].append(response3)\n",
    "    return response3.content\n",
    "\n",
    "def function4(state)->str:\n",
    "    custom_contents=[]\n",
    "    messages=state[\"messages\"]\n",
    "    input4=messages[-1]\n",
    "    response4=search.run(input4)\n",
    "\n",
    "    for result in response4:\n",
    "        content=result.get('content' , '')\n",
    "        if content:\n",
    "            custom_contents.append(content)\n",
    "    if custom_contents:\n",
    "        state['messages'].append(custom_contents)\n",
    "        return \"Search Results :\" + ' '.join(custom_contents)\n",
    "    \n",
    "    else:\n",
    "        state['messages'].append(\"Search Results : No content found\")\n",
    "        return \"Search Results : No content found\" \n",
    "\n",
    "def function5(state):\n",
    "    messages=state['messages']\n",
    "    user_input=messages[0]\n",
    "    available_info=messages[1]\n",
    "    agent_query2=\"Your task is to match if the what the user has demanded in his query which is this \\n\"+ user_input + \" \\n with the information retrieved which is: \\n\" + available_info +\"so basically your task is to see if the information is correct or not\"\n",
    "    response5=groq_llm.invoke(agent_query2)\n",
    "    return response5.content\n",
    "workflow2= Graph()\n",
    "\n",
    "workflow2.add_node(\"agent\" , function3)\n",
    "workflow2.add_node(\"tool\" , function4)\n",
    "workflow2.add_node(\"evaluation\" , function5)\n",
    "\n",
    "workflow2.add_edge(\"agent\" , \"tool\")\n",
    "workflow2.add_edge(\"tool\" , \"evaluation\")\n",
    "\n",
    "workflow2.set_entry_point(\"agent\")\n",
    "workflow2.set_finish_point(\"evaluation\")\n",
    "\n",
    "app2=workflow2.compile()\n",
    "\n",
    "inputs={\"messages\": [\"What do you know about mercedes c63s 6.2l v8 , when was it released and what is its price?\"]}\n",
    "app2.invoke(inputs)\n"
   ]
  },
  {
   "cell_type": "code",
   "execution_count": null,
   "metadata": {},
   "outputs": [
    {
     "name": "stdout",
     "output_type": "stream",
     "text": [
      "The output from node node3 is \n",
      " \n",
      "----------------------- \n",
      " \n",
      "The car brand is Mercedes and the car model is C63S.\n",
      "The output from node node4 is \n",
      " \n",
      "----------------------- \n",
      " \n",
      "AGENT SAYS :Specifications\n",
      "2024 Mercedes-AMG C63 S E-Performance\n",
      "Vehicle Type: front-engine, rear-motor, all-wheel-drive, 5-passenger, 4-door sedan\n",
      "PRICE (C/D EST)\n",
      "Base: $95,000\n",
      "POWERTRAINSTurbocharged and intercooled DOHC 16-valve inline-4, 469 hp, 402 lb-ft + AC motor, 201 hp, 236 lb-ft (combined output: 671 hp, 752 lb-ft; 4.8-kWh lithium-ion battery pack; 3.7-kW onboard charger)\n",
      "Transmissions F/R: 9-speed automatic, 2-speed automatic\n",
      "DIMENSIONS\n",
      "Wheelbase: 113.2 in\n",
      "Length: 190.6 in\n",
      "Width: 74.8 in\n",
      "Height: 57.4 in\n",
      "Passenger Volume: 94 ft3\n",
      "Trunk Volume: 10 ft3\n",
      "Curb Weight (C/D est): 4700 lb\n",
      "PERFORMANCE (C/D EST)\n",
      "60 mph: 3.0 sec\n",
      "100 mph: 6.7 sec\n",
      "1/4-Mile: 10.8 sec\n",
      "Top Speed: 174 mph\n",
      "EPA FUEL ECONOMY (C/D EST)\n",
      "Combined/City/Highway: 21/18/25 mpg\n",
      "Combined Gasoline + Electricity: 35 MPGe\n",
      "EV Range: 6 mi\n",
      "Shopping Tools\n",
      "Mercedes-AMG\n",
      "2024 Mercedes-AMG CLE53\n",
      "2024 Mercedes-AMG EQE53\n",
      "2024 Mercedes-AMG GT Coupe\n",
      "2024 Mercedes-AMG GLB-Class\n",
      "2024 Mercedes-AMG G63\n",
      "2023 Mercedes-AMG C43\n",
      "2024 Mercedes-AMG C43\n",
      "2024 Mercedes-AMG EQS\n",
      "2025 Mercedes-AMG GLC-Class\n",
      "2024 Mercedes-AMG GT43 / GT53 / GT63\n",
      "2024 Mercedes-AMG EQE SUV\n",
      "2024 Mercedes-AMG GLC-Class Coupe\n",
      "A Part of Hearst Digital Media\n",
      "We may earn a commission for purchases made through our links.\n",
      " Where This Vehicle Ranks\n",
      "Cadillac CT4-V Blackwing\n",
      "Mercedes-AMG C63\n",
      "Alfa Romeo Giulia Quadrifoglio\n",
      "BMW M3\n",
      "BMW M4\n",
      "Mercedes-AMG C43\n",
      "What's New for 2024?\n",
      " For more information about the C63’s fuel economy, visit the EPA's website.\n",
      "Interior, Comfort, and Cargo\n",
      "The C63’s cabin looks much like the standard C-class and junior AMG C43 model, but it sports unique upholstery and stitching patterns as well as AMG-branded sport seats with openings cut out to help save weight. 2024 Mercedes-AMG C63\n",
      "Starting at $95,000 est\n",
      "Select a year\n",
      "Overview\n",
      "The high-performance variant of Mercedes’s entry-luxury C-class sedan returns as the 2024 C63, but this time it will get a radically different engine. Safety and Driver-Assistance Features\n",
      "Like the C43, the C63 will offer a host of standard driver-assistance features but unfortunately, the car's coolest tech, which includes an adaptive cruise-control system that utilizes navigation data to adjust the vehicle's speed for upcoming curves and roundabouts, will probably remain an optional upgrade. Introducing the Mercedes-Benz High-Power Charging Network, a premium experience for effortless public charging and preferential access for Mercedes-Benz drivers across North America. ... Model Selection. Models; C 300 Sedan $46,950 Disclaimer * MSRP. C 300 Sedan; C 300 4MATIC Sedan $48,950 ... Car-to-X Communication More info on Car-to-X ... Engine Handcrafted AMG 4.0L V8 biturbo. Power 503 hp @ 5,500-6,250 rpm. Torque 516 lb-ft @ 2,000-4,500 rpm. Compression ratio 10.5:1. Construction Diecast alloy block and zirconium alloy heads. Fuel requirement Premium unleaded gasoline. Fuel capacity 17.4 gal. 2023 Mercedes-AMG C63. Starting at $83,000. 9.5 / 10 C/D RATING. Specs. Mercedes-AMG. Highs Burbling V-8 exhaust note, bonkers acceleration, sharp handling. Lows Uncomfortable ride over the lumps ... The 2023 model year is the last year the car will be V8-powered. After that, Mercedes is switching to a less visceral high-performance four-cylinder hybrid powertrain. Mercedes-Benz C-Class models\n"
     ]
    }
   ],
   "source": [
    "input=\"What do you know about mercedes c63s\"\n",
    "\n",
    "for output in app2.stream(input):\n",
    "    for key , value in output.items():\n",
    "        print(f\"The output from node {key} is \\n \")\n",
    "        print(\"----------------------- \\n \")\n",
    "        print(f\"{value}\")"
   ]
  },
  {
   "cell_type": "code",
   "execution_count": null,
   "metadata": {},
   "outputs": [],
   "source": []
  }
 ],
 "metadata": {
  "kernelspec": {
   "display_name": ".venv",
   "language": "python",
   "name": "python3"
  },
  "language_info": {
   "codemirror_mode": {
    "name": "ipython",
    "version": 3
   },
   "file_extension": ".py",
   "mimetype": "text/x-python",
   "name": "python",
   "nbconvert_exporter": "python",
   "pygments_lexer": "ipython3",
   "version": "3.11.9"
  }
 },
 "nbformat": 4,
 "nbformat_minor": 2
}
